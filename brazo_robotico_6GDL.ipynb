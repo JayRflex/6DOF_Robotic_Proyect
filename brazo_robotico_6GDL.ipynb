{
 "cells": [
  {
   "cell_type": "code",
   "execution_count": 3,
   "metadata": {},
   "outputs": [],
   "source": [
    "import sympy as sp\n"
   ]
  },
  {
   "cell_type": "code",
   "execution_count": 1,
   "metadata": {},
   "outputs": [],
   "source": [
    "def rot_x(theta):\n",
    "    return sp.Matrix([\n",
    "        [1, 0, 0],\n",
    "        [0, sp.cos(theta), -sp.sin(theta)],\n",
    "        [0, sp.sin(theta), sp.cos(theta)]\n",
    "    ])\n",
    "\n",
    "def rot_y(theta):\n",
    "    return sp.Matrix([\n",
    "        [sp.cos(theta), 0, sp.sin(theta)],\n",
    "        [0, 1, 0],\n",
    "        [-sp.sin(theta), 0, sp.cos(theta)]\n",
    "    ])\n",
    "\n",
    "def rot_z(theta):\n",
    "    return sp.Matrix([\n",
    "        [sp.cos(theta), -sp.sin(theta), 0],\n",
    "        [sp.sin(theta), sp.cos(theta), 0],\n",
    "        [0, 0, 1]\n",
    "    ])\n"
   ]
  },
  {
   "cell_type": "code",
   "execution_count": 4,
   "metadata": {},
   "outputs": [],
   "source": [
    "q1, q2, q3, q4, q5, q6 = sp.symbols('q1 q2 q3 q4 q5 q6')\n",
    "l1, l2, l3, l4, l5 = sp.symbols('l1 l2 l3 l4 l5')\n",
    "\n",
    "R1 = rot_y(q1)\n",
    "R2 = rot_z(q2)\n",
    "R3 = rot_x(q3)\n",
    "R4 = rot_x(q4)\n",
    "R5 = rot_x(q5)\n",
    "R6 = rot_z(q6)\n",
    "\n",
    "d1 = sp.Matrix([0, 0, l1])\n",
    "d2 = sp.Matrix([0, 0, 0])\n",
    "d3 = sp.Matrix([0, 0, l2])\n",
    "d4 = sp.Matrix([0, 0, l3])\n",
    "d5 = sp.Matrix([0, 0, l4])\n",
    "d6 = sp.Matrix([0, 0, l5])\n"
   ]
  },
  {
   "cell_type": "code",
   "execution_count": 5,
   "metadata": {},
   "outputs": [],
   "source": [
    "def transform_matrix(rotation, displacement):\n",
    "    return sp.Matrix.vstack(\n",
    "        sp.Matrix.hstack(rotation, displacement),\n",
    "        sp.Matrix([[0, 0, 0, 1]])\n",
    "    )\n",
    "\n",
    "T1 = transform_matrix(R1, d1)\n",
    "T2 = transform_matrix(R2, d2)\n",
    "T3 = transform_matrix(R3, d3)\n",
    "T4 = transform_matrix(R4, d4)\n",
    "T5 = transform_matrix(R5, d5)\n",
    "T6 = transform_matrix(R6, d6)\n"
   ]
  },
  {
   "cell_type": "code",
   "execution_count": 8,
   "metadata": {},
   "outputs": [],
   "source": [
    "T_total = T1 * T2 * T3 * T4 * T5 * T6\n",
    "\n",
    "T_total_simplified = sp.simplify(T_total)\n",
    "T_total_simplified\n",
    "position = T_total_simplified[:3, 3]"
   ]
  },
  {
   "cell_type": "code",
   "execution_count": 9,
   "metadata": {},
   "outputs": [
    {
     "data": {
      "text/latex": [
       "$\\displaystyle \\left[\\begin{matrix}l_{2} \\cos{\\left(q_{1} \\right)} + l_{3} \\left(- \\sin{\\left(q_{1} \\right)} \\sin{\\left(q_{2} \\right)} \\sin{\\left(q_{3} \\right)} + \\cos{\\left(q_{1} \\right)} \\cos{\\left(q_{3} \\right)}\\right) + l_{4} \\left(- \\sin{\\left(q_{1} \\right)} \\sin{\\left(q_{2} \\right)} \\sin{\\left(q_{3} + q_{4} \\right)} + \\cos{\\left(q_{1} \\right)} \\cos{\\left(q_{3} + q_{4} \\right)}\\right) + l_{5} \\left(- \\sin{\\left(q_{1} \\right)} \\sin{\\left(q_{2} \\right)} \\sin{\\left(q_{3} + q_{4} + q_{5} \\right)} + \\cos{\\left(q_{1} \\right)} \\cos{\\left(q_{3} + q_{4} + q_{5} \\right)}\\right) & l_{3} \\sin{\\left(q_{3} \\right)} \\cos{\\left(q_{1} \\right)} \\cos{\\left(q_{2} \\right)} + l_{4} \\sin{\\left(q_{3} + q_{4} \\right)} \\cos{\\left(q_{1} \\right)} \\cos{\\left(q_{2} \\right)} + l_{5} \\sin{\\left(q_{3} + q_{4} + q_{5} \\right)} \\cos{\\left(q_{1} \\right)} \\cos{\\left(q_{2} \\right)} & l_{3} \\left(- \\sin{\\left(q_{1} \\right)} \\sin{\\left(q_{3} \\right)} + \\sin{\\left(q_{2} \\right)} \\cos{\\left(q_{1} \\right)} \\cos{\\left(q_{3} \\right)}\\right) + l_{4} \\left(- \\sin{\\left(q_{1} \\right)} \\sin{\\left(q_{3} + q_{4} \\right)} + \\sin{\\left(q_{2} \\right)} \\cos{\\left(q_{1} \\right)} \\cos{\\left(q_{3} + q_{4} \\right)}\\right) + l_{5} \\left(- \\sin{\\left(q_{1} \\right)} \\sin{\\left(q_{3} + q_{4} + q_{5} \\right)} + \\sin{\\left(q_{2} \\right)} \\cos{\\left(q_{1} \\right)} \\cos{\\left(q_{3} + q_{4} + q_{5} \\right)}\\right) & l_{4} \\left(- \\sin{\\left(q_{1} \\right)} \\sin{\\left(q_{3} + q_{4} \\right)} + \\sin{\\left(q_{2} \\right)} \\cos{\\left(q_{1} \\right)} \\cos{\\left(q_{3} + q_{4} \\right)}\\right) + l_{5} \\left(- \\sin{\\left(q_{1} \\right)} \\sin{\\left(q_{3} + q_{4} + q_{5} \\right)} + \\sin{\\left(q_{2} \\right)} \\cos{\\left(q_{1} \\right)} \\cos{\\left(q_{3} + q_{4} + q_{5} \\right)}\\right) & l_{5} \\left(- \\sin{\\left(q_{1} \\right)} \\sin{\\left(q_{3} + q_{4} + q_{5} \\right)} + \\sin{\\left(q_{2} \\right)} \\cos{\\left(q_{1} \\right)} \\cos{\\left(q_{3} + q_{4} + q_{5} \\right)}\\right) & 0\\\\0 & \\left(l_{3} \\sin{\\left(q_{3} \\right)} + l_{4} \\sin{\\left(q_{3} + q_{4} \\right)} + l_{5} \\sin{\\left(q_{3} + q_{4} + q_{5} \\right)}\\right) \\sin{\\left(q_{2} \\right)} & - \\left(l_{3} \\cos{\\left(q_{3} \\right)} + l_{4} \\cos{\\left(q_{3} + q_{4} \\right)} + l_{5} \\cos{\\left(q_{3} + q_{4} + q_{5} \\right)}\\right) \\cos{\\left(q_{2} \\right)} & - \\left(l_{4} \\cos{\\left(q_{3} + q_{4} \\right)} + l_{5} \\cos{\\left(q_{3} + q_{4} + q_{5} \\right)}\\right) \\cos{\\left(q_{2} \\right)} & - l_{5} \\cos{\\left(q_{2} \\right)} \\cos{\\left(q_{3} + q_{4} + q_{5} \\right)} & 0\\\\- l_{2} \\sin{\\left(q_{1} \\right)} - l_{3} \\left(\\sin{\\left(q_{1} \\right)} \\cos{\\left(q_{3} \\right)} + \\sin{\\left(q_{2} \\right)} \\sin{\\left(q_{3} \\right)} \\cos{\\left(q_{1} \\right)}\\right) - l_{4} \\left(\\sin{\\left(q_{1} \\right)} \\cos{\\left(q_{3} + q_{4} \\right)} + \\sin{\\left(q_{2} \\right)} \\sin{\\left(q_{3} + q_{4} \\right)} \\cos{\\left(q_{1} \\right)}\\right) + l_{5} \\left(- \\sin{\\left(q_{1} \\right)} \\cos{\\left(q_{3} + q_{4} + q_{5} \\right)} - \\sin{\\left(q_{2} \\right)} \\sin{\\left(q_{3} + q_{4} + q_{5} \\right)} \\cos{\\left(q_{1} \\right)}\\right) & - l_{3} \\sin{\\left(q_{1} \\right)} \\sin{\\left(q_{3} \\right)} \\cos{\\left(q_{2} \\right)} - l_{4} \\sin{\\left(q_{1} \\right)} \\sin{\\left(q_{3} + q_{4} \\right)} \\cos{\\left(q_{2} \\right)} - l_{5} \\sin{\\left(q_{1} \\right)} \\sin{\\left(q_{3} + q_{4} + q_{5} \\right)} \\cos{\\left(q_{2} \\right)} & - l_{3} \\left(\\sin{\\left(q_{1} \\right)} \\sin{\\left(q_{2} \\right)} \\cos{\\left(q_{3} \\right)} + \\sin{\\left(q_{3} \\right)} \\cos{\\left(q_{1} \\right)}\\right) - l_{4} \\left(\\sin{\\left(q_{1} \\right)} \\sin{\\left(q_{2} \\right)} \\cos{\\left(q_{3} + q_{4} \\right)} + \\sin{\\left(q_{3} + q_{4} \\right)} \\cos{\\left(q_{1} \\right)}\\right) + l_{5} \\left(- \\sin{\\left(q_{1} \\right)} \\sin{\\left(q_{2} \\right)} \\cos{\\left(q_{3} + q_{4} + q_{5} \\right)} - \\sin{\\left(q_{3} + q_{4} + q_{5} \\right)} \\cos{\\left(q_{1} \\right)}\\right) & - l_{4} \\left(\\sin{\\left(q_{1} \\right)} \\sin{\\left(q_{2} \\right)} \\cos{\\left(q_{3} + q_{4} \\right)} + \\sin{\\left(q_{3} + q_{4} \\right)} \\cos{\\left(q_{1} \\right)}\\right) + l_{5} \\left(- \\sin{\\left(q_{1} \\right)} \\sin{\\left(q_{2} \\right)} \\cos{\\left(q_{3} + q_{4} + q_{5} \\right)} - \\sin{\\left(q_{3} + q_{4} + q_{5} \\right)} \\cos{\\left(q_{1} \\right)}\\right) & l_{5} \\left(- \\sin{\\left(q_{1} \\right)} \\sin{\\left(q_{2} \\right)} \\cos{\\left(q_{3} + q_{4} + q_{5} \\right)} - \\sin{\\left(q_{3} + q_{4} + q_{5} \\right)} \\cos{\\left(q_{1} \\right)}\\right) & 0\\end{matrix}\\right]$"
      ],
      "text/plain": [
       "Matrix([\n",
       "[l2*cos(q1) + l3*(-sin(q1)*sin(q2)*sin(q3) + cos(q1)*cos(q3)) + l4*(-sin(q1)*sin(q2)*sin(q3 + q4) + cos(q1)*cos(q3 + q4)) + l5*(-sin(q1)*sin(q2)*sin(q3 + q4 + q5) + cos(q1)*cos(q3 + q4 + q5)),  l3*sin(q3)*cos(q1)*cos(q2) + l4*sin(q3 + q4)*cos(q1)*cos(q2) + l5*sin(q3 + q4 + q5)*cos(q1)*cos(q2), l3*(-sin(q1)*sin(q3) + sin(q2)*cos(q1)*cos(q3)) + l4*(-sin(q1)*sin(q3 + q4) + sin(q2)*cos(q1)*cos(q3 + q4)) + l5*(-sin(q1)*sin(q3 + q4 + q5) + sin(q2)*cos(q1)*cos(q3 + q4 + q5)), l4*(-sin(q1)*sin(q3 + q4) + sin(q2)*cos(q1)*cos(q3 + q4)) + l5*(-sin(q1)*sin(q3 + q4 + q5) + sin(q2)*cos(q1)*cos(q3 + q4 + q5)), l5*(-sin(q1)*sin(q3 + q4 + q5) + sin(q2)*cos(q1)*cos(q3 + q4 + q5)), 0],\n",
       "[                                                                                                                                                                                             0,                                        (l3*sin(q3) + l4*sin(q3 + q4) + l5*sin(q3 + q4 + q5))*sin(q2),                                                                                                                    -(l3*cos(q3) + l4*cos(q3 + q4) + l5*cos(q3 + q4 + q5))*cos(q2),                                                                               -(l4*cos(q3 + q4) + l5*cos(q3 + q4 + q5))*cos(q2),                                       -l5*cos(q2)*cos(q3 + q4 + q5), 0],\n",
       "[ -l2*sin(q1) - l3*(sin(q1)*cos(q3) + sin(q2)*sin(q3)*cos(q1)) - l4*(sin(q1)*cos(q3 + q4) + sin(q2)*sin(q3 + q4)*cos(q1)) + l5*(-sin(q1)*cos(q3 + q4 + q5) - sin(q2)*sin(q3 + q4 + q5)*cos(q1)), -l3*sin(q1)*sin(q3)*cos(q2) - l4*sin(q1)*sin(q3 + q4)*cos(q2) - l5*sin(q1)*sin(q3 + q4 + q5)*cos(q2),  -l3*(sin(q1)*sin(q2)*cos(q3) + sin(q3)*cos(q1)) - l4*(sin(q1)*sin(q2)*cos(q3 + q4) + sin(q3 + q4)*cos(q1)) + l5*(-sin(q1)*sin(q2)*cos(q3 + q4 + q5) - sin(q3 + q4 + q5)*cos(q1)), -l4*(sin(q1)*sin(q2)*cos(q3 + q4) + sin(q3 + q4)*cos(q1)) + l5*(-sin(q1)*sin(q2)*cos(q3 + q4 + q5) - sin(q3 + q4 + q5)*cos(q1)), l5*(-sin(q1)*sin(q2)*cos(q3 + q4 + q5) - sin(q3 + q4 + q5)*cos(q1)), 0]])"
      ]
     },
     "execution_count": 9,
     "metadata": {},
     "output_type": "execute_result"
    }
   ],
   "source": [
    "jacobian = position.jacobian([q1, q2, q3, q4, q5, q6])\n",
    "jacobian\n"
   ]
  },
  {
   "cell_type": "code",
   "execution_count": null,
   "metadata": {},
   "outputs": [
    {
     "name": "stdout",
     "output_type": "stream",
     "text": [
      "\n",
      "Determinante de la submatriz cuadrada de la Jacobiana (para singularidades):\n",
      "                                                         2        \n",
      "-l₂⋅(l₃⋅sin(q₃) + l₄⋅sin(q₃ + q₄) + l₅⋅sin(q₃ + q₄ + q₅)) ⋅sin(q₂)\n",
      "\n",
      "El sistema no está en una configuración singular.\n"
     ]
    }
   ],
   "source": [
    "\n",
    "# Calcular la submatriz cuadrada de la jacobiana (primeras 3 filas y 3 columnas)\n",
    "jacobian_submatrix = jacobian[:, :3]  # Tomar las primeras 3 columnas\n",
    "\n",
    "# Determinante de la submatriz cuadrada\n",
    "det_jacobian_submatrix = sp.simplify(jacobian_submatrix.det())\n",
    "\n",
    "# Mostrar el determinante\n",
    "print(\"\\nDeterminante de la submatriz cuadrada de la Jacobiana (para singularidades):\")\n",
    "sp.pprint(det_jacobian_submatrix)\n",
    "\n",
    "# Identificar las singularidades\n",
    "if det_jacobian_submatrix == 0:\n",
    "    print(\"\\nEl sistema está en una configuración singular.\")\n",
    "else:\n",
    "    print(\"\\nEl sistema no está en una configuración singular.\")\n"
   ]
  }
 ],
 "metadata": {
  "kernelspec": {
   "display_name": "Python 3",
   "language": "python",
   "name": "python3"
  },
  "language_info": {
   "codemirror_mode": {
    "name": "ipython",
    "version": 3
   },
   "file_extension": ".py",
   "mimetype": "text/x-python",
   "name": "python",
   "nbconvert_exporter": "python",
   "pygments_lexer": "ipython3",
   "version": "3.12.5"
  }
 },
 "nbformat": 4,
 "nbformat_minor": 2
}
